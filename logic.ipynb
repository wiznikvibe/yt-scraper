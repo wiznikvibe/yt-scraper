{
 "cells": [
  {
   "cell_type": "code",
   "execution_count": 1,
   "metadata": {},
   "outputs": [],
   "source": [
    "import time\n",
    "from selenium import webdriver\n",
    "from bs4 import BeautifulSoup\n",
    "import pandas as pd \n",
    "import requests\n",
    "from selenium.webdriver.common.by import By \n",
    "from selenium.webdriver.chrome.service import Service\n",
    "import os"
   ]
  },
  {
   "cell_type": "markdown",
   "metadata": {},
   "source": [
    "#### Web Page Elements \n",
    "Videos_List : style-scope ytd-rich-item-renderer\n",
    "\n",
    "title --  //*[@id=\"video-title-link\"]\n",
    "\n",
    "views -- //*[@id=\"metadata-line\"]/span[1]\n",
    "\n",
    "day_posted -- //*[@id=\"metadata-line\"]/span[2]\n",
    "video_link -- //*[@id=\"thumbnail\"]\n"
   ]
  },
  {
   "cell_type": "code",
   "execution_count": null,
   "metadata": {},
   "outputs": [],
   "source": [
    "# PATH = r'chromedriver.exe'\n",
    "# service = Service(executable_path=PATH)\n",
    "# wd = webdriver.Chrome(service=service)\n",
    "# url = \"https://www.youtube.com/@krishnaik06/videos\"\n",
    "# wd.get(url)\n",
    "# videos = wd.find_elements(By.CLASS_NAME, \"style-scope ytd-rich-item-renderer\")\n",
    "        \n",
    "        \n",
    "# for video in videos:\n",
    "#     title = video.find_element(By.XPATH, \".//*[@id='video-title-link']\").get_attribute('href')\n",
    "#     print(title)\n"
   ]
  },
  {
   "cell_type": "markdown",
   "metadata": {},
   "source": [
    "## Scrolling Till 50 Links are reached\n"
   ]
  },
  {
   "cell_type": "code",
   "execution_count": 91,
   "metadata": {},
   "outputs": [],
   "source": [
    "def scroll_to_end(wd):\n",
    "    wd.execute_script(\"window.scrollTo(0, 1000);\")\n",
    "    time.sleep(5)\n",
    "\n",
    "def fetch_video_details(url, max_videos=50):\n",
    "    PATH = r'chromedriver.exe'\n",
    "    service = Service(executable_path=PATH)\n",
    "    wd = webdriver.Chrome(service=service)\n",
    "    wd.get(url)\n",
    "    \n",
    "    video_details = []\n",
    "    while len(video_details) < max_videos:\n",
    "        videos = wd.find_elements(By.CLASS_NAME, \"style-scope ytd-rich-item-renderer\")\n",
    "        scroll_to_end(wd)\n",
    "        \n",
    "        for video in videos:\n",
    "            title = video.find_element(By.XPATH, \".//*[@id='video-title-link']\").text\n",
    "            view = video.find_element(By.XPATH, \".//*[@id='metadata-line']/span[1]\").text\n",
    "            date = video.find_element(By.XPATH, \".//*[@id='metadata-line']/span[2]\").text\n",
    "            link = video.find_element(By.XPATH, \".//*[@id='video-title-link']\").get_attribute('href') \n",
    "            # duration = video.find_element(By.CLASS_NAME, \"style-scope ytd-thumbnail-overlay-time-status-renderer\").text\n",
    "        \n",
    "\n",
    "            details = {\n",
    "                'title': title,\n",
    "                'views': view,\n",
    "                'date': date,\n",
    "                'yt_link':link\n",
    "            }\n",
    "            \n",
    "            video_details.append(details)\n",
    "            if len(video_details) >= max_videos:\n",
    "                break\n",
    "    \n",
    "    wd.quit()\n",
    "    return pd.DataFrame(video_details)\n",
    "\n",
    "url = \"https://www.youtube.com/@krishnaik06/videos\"\n",
    "max_videos = 50\n",
    "video_details_df = fetch_video_details(url, max_videos)\n"
   ]
  },
  {
   "cell_type": "markdown",
   "metadata": {},
   "source": [
    "## Likes, Dislikes, Description, Title, Comment "
   ]
  },
  {
   "cell_type": "code",
   "execution_count": 94,
   "metadata": {},
   "outputs": [
    {
     "ename": "WebDriverException",
     "evalue": "Message: unknown error: cannot determine loading status\nfrom no such window\n  (Session info: chrome=116.0.5845.111)\nStacktrace:\n\tGetHandleVerifier [0x00007FF64D7652A2+57122]\n\t(No symbol) [0x00007FF64D6DEA92]\n\t(No symbol) [0x00007FF64D5AE25D]\n\t(No symbol) [0x00007FF64D59C80C]\n\t(No symbol) [0x00007FF64D59AA3B]\n\t(No symbol) [0x00007FF64D59B31E]\n\t(No symbol) [0x00007FF64D5A86AA]\n\t(No symbol) [0x00007FF64D5B7F31]\n\t(No symbol) [0x00007FF64D5BC0DA]\n\t(No symbol) [0x00007FF64D59B8E7]\n\t(No symbol) [0x00007FF64D5B7BC3]\n\t(No symbol) [0x00007FF64D61EBE9]\n\t(No symbol) [0x00007FF64D606DB3]\n\t(No symbol) [0x00007FF64D5DD2B1]\n\t(No symbol) [0x00007FF64D5DE494]\n\tGetHandleVerifier [0x00007FF64DA0EF82+2849794]\n\tGetHandleVerifier [0x00007FF64DA61D24+3189156]\n\tGetHandleVerifier [0x00007FF64DA5ACAF+3160367]\n\tGetHandleVerifier [0x00007FF64D7F6D06+653702]\n\t(No symbol) [0x00007FF64D6EA208]\n\t(No symbol) [0x00007FF64D6E62C4]\n\t(No symbol) [0x00007FF64D6E63F6]\n\t(No symbol) [0x00007FF64D6D67A3]\n\tBaseThreadInitThunk [0x00007FFE5840257D+29]\n\tRtlUserThreadStart [0x00007FFE5974AA68+40]\n",
     "output_type": "error",
     "traceback": [
      "\u001b[1;31m---------------------------------------------------------------------------\u001b[0m",
      "\u001b[1;31mWebDriverException\u001b[0m                        Traceback (most recent call last)",
      "Cell \u001b[1;32mIn[94], line 7\u001b[0m\n\u001b[0;32m      4\u001b[0m service \u001b[39m=\u001b[39m Service(executable_path\u001b[39m=\u001b[39mPATH)\n\u001b[0;32m      5\u001b[0m wd \u001b[39m=\u001b[39m webdriver\u001b[39m.\u001b[39mChrome(service\u001b[39m=\u001b[39mservice)\n\u001b[1;32m----> 7\u001b[0m wd\u001b[39m.\u001b[39;49mget(urls[\u001b[39m0\u001b[39;49m])\n\u001b[0;32m      8\u001b[0m time\u001b[39m.\u001b[39msleep(\u001b[39m2\u001b[39m)\n\u001b[0;32m     10\u001b[0m likes \u001b[39m=\u001b[39m wd\u001b[39m.\u001b[39mfind_element(By\u001b[39m.\u001b[39mXPATH,\u001b[39m\"\u001b[39m\u001b[39m//*[@id=\u001b[39m\u001b[39m'\u001b[39m\u001b[39msegmented-like-button\u001b[39m\u001b[39m'\u001b[39m\u001b[39m]/ytd-toggle-button-renderer/yt-button-shape/button/div[2]/span\u001b[39m\u001b[39m\"\u001b[39m)\u001b[39m.\u001b[39mtext\n",
      "File \u001b[1;32mc:\\Users\\nikhi\\yt-scraper\\venv\\lib\\site-packages\\selenium\\webdriver\\remote\\webdriver.py:354\u001b[0m, in \u001b[0;36mWebDriver.get\u001b[1;34m(self, url)\u001b[0m\n\u001b[0;32m    352\u001b[0m \u001b[39mdef\u001b[39;00m \u001b[39mget\u001b[39m(\u001b[39mself\u001b[39m, url: \u001b[39mstr\u001b[39m) \u001b[39m-\u001b[39m\u001b[39m>\u001b[39m \u001b[39mNone\u001b[39;00m:\n\u001b[0;32m    353\u001b[0m \u001b[39m    \u001b[39m\u001b[39m\"\"\"Loads a web page in the current browser session.\"\"\"\u001b[39;00m\n\u001b[1;32m--> 354\u001b[0m     \u001b[39mself\u001b[39;49m\u001b[39m.\u001b[39;49mexecute(Command\u001b[39m.\u001b[39;49mGET, {\u001b[39m\"\u001b[39;49m\u001b[39murl\u001b[39;49m\u001b[39m\"\u001b[39;49m: url})\n",
      "File \u001b[1;32mc:\\Users\\nikhi\\yt-scraper\\venv\\lib\\site-packages\\selenium\\webdriver\\remote\\webdriver.py:345\u001b[0m, in \u001b[0;36mWebDriver.execute\u001b[1;34m(self, driver_command, params)\u001b[0m\n\u001b[0;32m    343\u001b[0m response \u001b[39m=\u001b[39m \u001b[39mself\u001b[39m\u001b[39m.\u001b[39mcommand_executor\u001b[39m.\u001b[39mexecute(driver_command, params)\n\u001b[0;32m    344\u001b[0m \u001b[39mif\u001b[39;00m response:\n\u001b[1;32m--> 345\u001b[0m     \u001b[39mself\u001b[39;49m\u001b[39m.\u001b[39;49merror_handler\u001b[39m.\u001b[39;49mcheck_response(response)\n\u001b[0;32m    346\u001b[0m     response[\u001b[39m\"\u001b[39m\u001b[39mvalue\u001b[39m\u001b[39m\"\u001b[39m] \u001b[39m=\u001b[39m \u001b[39mself\u001b[39m\u001b[39m.\u001b[39m_unwrap_value(response\u001b[39m.\u001b[39mget(\u001b[39m\"\u001b[39m\u001b[39mvalue\u001b[39m\u001b[39m\"\u001b[39m, \u001b[39mNone\u001b[39;00m))\n\u001b[0;32m    347\u001b[0m     \u001b[39mreturn\u001b[39;00m response\n",
      "File \u001b[1;32mc:\\Users\\nikhi\\yt-scraper\\venv\\lib\\site-packages\\selenium\\webdriver\\remote\\errorhandler.py:229\u001b[0m, in \u001b[0;36mErrorHandler.check_response\u001b[1;34m(self, response)\u001b[0m\n\u001b[0;32m    227\u001b[0m         alert_text \u001b[39m=\u001b[39m value[\u001b[39m\"\u001b[39m\u001b[39malert\u001b[39m\u001b[39m\"\u001b[39m]\u001b[39m.\u001b[39mget(\u001b[39m\"\u001b[39m\u001b[39mtext\u001b[39m\u001b[39m\"\u001b[39m)\n\u001b[0;32m    228\u001b[0m     \u001b[39mraise\u001b[39;00m exception_class(message, screen, stacktrace, alert_text)  \u001b[39m# type: ignore[call-arg]  # mypy is not smart enough here\u001b[39;00m\n\u001b[1;32m--> 229\u001b[0m \u001b[39mraise\u001b[39;00m exception_class(message, screen, stacktrace)\n",
      "\u001b[1;31mWebDriverException\u001b[0m: Message: unknown error: cannot determine loading status\nfrom no such window\n  (Session info: chrome=116.0.5845.111)\nStacktrace:\n\tGetHandleVerifier [0x00007FF64D7652A2+57122]\n\t(No symbol) [0x00007FF64D6DEA92]\n\t(No symbol) [0x00007FF64D5AE25D]\n\t(No symbol) [0x00007FF64D59C80C]\n\t(No symbol) [0x00007FF64D59AA3B]\n\t(No symbol) [0x00007FF64D59B31E]\n\t(No symbol) [0x00007FF64D5A86AA]\n\t(No symbol) [0x00007FF64D5B7F31]\n\t(No symbol) [0x00007FF64D5BC0DA]\n\t(No symbol) [0x00007FF64D59B8E7]\n\t(No symbol) [0x00007FF64D5B7BC3]\n\t(No symbol) [0x00007FF64D61EBE9]\n\t(No symbol) [0x00007FF64D606DB3]\n\t(No symbol) [0x00007FF64D5DD2B1]\n\t(No symbol) [0x00007FF64D5DE494]\n\tGetHandleVerifier [0x00007FF64DA0EF82+2849794]\n\tGetHandleVerifier [0x00007FF64DA61D24+3189156]\n\tGetHandleVerifier [0x00007FF64DA5ACAF+3160367]\n\tGetHandleVerifier [0x00007FF64D7F6D06+653702]\n\t(No symbol) [0x00007FF64D6EA208]\n\t(No symbol) [0x00007FF64D6E62C4]\n\t(No symbol) [0x00007FF64D6E63F6]\n\t(No symbol) [0x00007FF64D6D67A3]\n\tBaseThreadInitThunk [0x00007FFE5840257D+29]\n\tRtlUserThreadStart [0x00007FFE5974AA68+40]\n"
     ]
    }
   ],
   "source": [
    "urls = video_details_df['yt_link']\n",
    "# print(urls[0])\n",
    "PATH = r'chromedriver.exe'\n",
    "service = Service(executable_path=PATH)\n",
    "wd = webdriver.Chrome(service=service)\n",
    "\n",
    "wd.get(urls[0])\n",
    "time.sleep(2)\n",
    "\n",
    "likes = wd.find_element(By.XPATH,\"//*[@id='segmented-like-button']/ytd-toggle-button-renderer/yt-button-shape/button/div[2]/span\").text\n",
    "wd.quit()\n",
    "print(likes)\n",
    "\n"
   ]
  },
  {
   "cell_type": "code",
   "execution_count": 86,
   "metadata": {},
   "outputs": [
    {
     "name": "stdout",
     "output_type": "stream",
     "text": [
      "<div class=\"text-shell skeleton-bg-color\" id=\"title\"></div>\n"
     ]
    }
   ],
   "source": [
    "block = soup.find('div',attrs={'id':'title'})\n",
    "print(block)"
   ]
  },
  {
   "cell_type": "code",
   "execution_count": 82,
   "metadata": {},
   "outputs": [
    {
     "name": "stdout",
     "output_type": "stream",
     "text": [
      "\n"
     ]
    }
   ],
   "source": [
    "video_title = soup.find(id='title')\n",
    "print(video_title.text)"
   ]
  },
  {
   "cell_type": "code",
   "execution_count": 35,
   "metadata": {},
   "outputs": [
    {
     "name": "stdout",
     "output_type": "stream",
     "text": [
      "None\n"
     ]
    }
   ],
   "source": [
    "print(soup.find('div#above-the-fold'))"
   ]
  },
  {
   "cell_type": "code",
   "execution_count": null,
   "metadata": {},
   "outputs": [],
   "source": []
  },
  {
   "cell_type": "code",
   "execution_count": null,
   "metadata": {},
   "outputs": [],
   "source": []
  },
  {
   "cell_type": "code",
   "execution_count": null,
   "metadata": {},
   "outputs": [],
   "source": []
  },
  {
   "cell_type": "code",
   "execution_count": null,
   "metadata": {},
   "outputs": [],
   "source": []
  },
  {
   "cell_type": "code",
   "execution_count": null,
   "metadata": {},
   "outputs": [],
   "source": []
  },
  {
   "cell_type": "code",
   "execution_count": null,
   "metadata": {},
   "outputs": [],
   "source": []
  },
  {
   "cell_type": "code",
   "execution_count": null,
   "metadata": {},
   "outputs": [],
   "source": []
  },
  {
   "cell_type": "code",
   "execution_count": null,
   "metadata": {},
   "outputs": [],
   "source": []
  },
  {
   "cell_type": "code",
   "execution_count": null,
   "metadata": {},
   "outputs": [],
   "source": []
  },
  {
   "cell_type": "code",
   "execution_count": null,
   "metadata": {},
   "outputs": [],
   "source": []
  },
  {
   "cell_type": "code",
   "execution_count": null,
   "metadata": {},
   "outputs": [],
   "source": []
  }
 ],
 "metadata": {
  "kernelspec": {
   "display_name": "Python 3",
   "language": "python",
   "name": "python3"
  },
  "language_info": {
   "codemirror_mode": {
    "name": "ipython",
    "version": 3
   },
   "file_extension": ".py",
   "mimetype": "text/x-python",
   "name": "python",
   "nbconvert_exporter": "python",
   "pygments_lexer": "ipython3",
   "version": "3.8.17"
  },
  "orig_nbformat": 4
 },
 "nbformat": 4,
 "nbformat_minor": 2
}
