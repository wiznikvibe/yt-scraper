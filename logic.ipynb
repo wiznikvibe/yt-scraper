{
 "cells": [
  {
   "cell_type": "code",
   "execution_count": 4,
   "metadata": {},
   "outputs": [],
   "source": [
    "import time\n",
    "from selenium import webdriver\n",
    "from bs4 import BeautifulSoup\n",
    "import pandas as pd \n",
    "from selenium.webdriver.common.by import By \n",
    "from selenium.webdriver.chrome.service import Service\n",
    "import os"
   ]
  },
  {
   "cell_type": "markdown",
   "metadata": {},
   "source": [
    "style-scope ytd-rich-item-renderer\n",
    "title //*[@id=\"video-title-link\"]\n",
    "views //*[@id=\"metadata-line\"]/span[1]\n",
    "time //*[@id=\"metadata-line\"]/span[2]"
   ]
  },
  {
   "cell_type": "code",
   "execution_count": 5,
   "metadata": {},
   "outputs": [],
   "source": [
    "url = \"https://www.youtube.com/@krishnaik06/videos\"\n",
    "PATH = r'chromedriver.exe'\n",
    "\n",
    "service = Service(executable_path=PATH)\n",
    "wd = webdriver.Chrome(service=service)"
   ]
  },
  {
   "cell_type": "code",
   "execution_count": 6,
   "metadata": {},
   "outputs": [],
   "source": [
    "wd.get(url)"
   ]
  },
  {
   "cell_type": "code",
   "execution_count": 7,
   "metadata": {},
   "outputs": [],
   "source": [
    "videos = wd.find_elements(By.CLASS_NAME,\"style-scope ytd-rich-item-renderer\")"
   ]
  },
  {
   "cell_type": "code",
   "execution_count": 18,
   "metadata": {},
   "outputs": [
    {
     "data": {
      "text/plain": [
       "['Evidently AI Tutorial-Open Source ML Models Monitoring and Observability',\n",
       " 'Is Transition From Mechanical Engineering To Data Science Possible? Shivam Transition Story Podcast',\n",
       " 'BentoML Tutorial: Build Production Grade AI Applications',\n",
       " 'Rohan Successful Transition-Freshers To MLOPS Lead With Equity @PWSkillsTech #datascience #ai',\n",
       " 'Projjal Transition Story To Data Science With 380% Hike',\n",
       " 'Tanisha Transition Story To Data Analytics Industry With 200% Hike',\n",
       " 'Tavishi Transition Story To Data Science With 6 Offers And 170% Hike @PWSkillsTech',\n",
       " 'End To End MLOPS Data Science Project Implementation With Deployment',\n",
       " 'Data Versioning Hands On Tutorials With DVC For Data Science',\n",
       " 'The Power Of MLFLOW And Dagshub-Open Source Data Science Project Collaboration',\n",
       " 'Will AI Eat Your Job After ChatGPT And Code Interpreter- What You Should Do?',\n",
       " 'The Power Of ChatGPT Plugins|Check This Powerful Demo',\n",
       " 'The Future Of Coding-Code Interpreter With Chatgpt- Its Time To Make AI Your Friend',\n",
       " 'What Will Change In Data Science Project Development After OPENAI And Hugging Face API',\n",
       " 'Why You Should Learn Python In 2023 And Focus On Project Development?',\n",
       " 'A Dedicated Playlist For End To End Data Science Projects Implementation With Deployment In 2023',\n",
       " 'The Power Of Function Calling Ussing OpenAI API Tutorial #2',\n",
       " 'OpenAI API With Python Tuorial 1-ChatCompletion API and Completion API',\n",
       " 'End To End Machine Learning Project Implementation Using AWS Sagemaker',\n",
       " 'This Video Has Been Made By An AI With My Avatar- Future OF AI',\n",
       " 'Learn How Python Data Classes Can Save Your Time In Projects',\n",
       " 'Build Python LLM apps in minutes Using Chainlit ⚡️',\n",
       " 'How OpenAI Will Change the Future- Sharing My Experience After Using It',\n",
       " 'Learn How To Query Pdf using Langchain Open AI in 5 min',\n",
       " \"Prompt Engineering And LLM's With LangChain In One Shot-Generative AI\",\n",
       " 'Getting Started With LangChain In 20 Minutes- Build Celebrity Search Application',\n",
       " 'An Important Advice-AI Is Advancing Just Start Learning AI Before Its Late',\n",
       " 'What Is Generative AI',\n",
       " 'Machine Learning Series-Linear Regression Ordinary Least Square Method',\n",
       " 'Machine Learning Series- Revising Regression Performance Metrics,MSE,MAE,RMSE, R squared-Krish Naik']"
      ]
     },
     "execution_count": 18,
     "metadata": {},
     "output_type": "execute_result"
    }
   ],
   "source": [
    "titles = []\n",
    "for video in videos:\n",
    "    title = video.find_element(By.XPATH,\".//*[@id='video-title-link']\").text\n",
    "\n",
    "    titles.append(title)\n",
    "\n",
    "titles"
   ]
  },
  {
   "cell_type": "code",
   "execution_count": null,
   "metadata": {},
   "outputs": [],
   "source": []
  },
  {
   "cell_type": "code",
   "execution_count": null,
   "metadata": {},
   "outputs": [],
   "source": []
  },
  {
   "cell_type": "code",
   "execution_count": null,
   "metadata": {},
   "outputs": [],
   "source": []
  },
  {
   "cell_type": "code",
   "execution_count": null,
   "metadata": {},
   "outputs": [],
   "source": []
  },
  {
   "cell_type": "code",
   "execution_count": null,
   "metadata": {},
   "outputs": [],
   "source": []
  },
  {
   "cell_type": "code",
   "execution_count": null,
   "metadata": {},
   "outputs": [],
   "source": []
  },
  {
   "cell_type": "code",
   "execution_count": null,
   "metadata": {},
   "outputs": [],
   "source": []
  },
  {
   "cell_type": "code",
   "execution_count": null,
   "metadata": {},
   "outputs": [],
   "source": []
  },
  {
   "cell_type": "code",
   "execution_count": null,
   "metadata": {},
   "outputs": [],
   "source": []
  },
  {
   "cell_type": "code",
   "execution_count": null,
   "metadata": {},
   "outputs": [],
   "source": []
  },
  {
   "cell_type": "code",
   "execution_count": null,
   "metadata": {},
   "outputs": [],
   "source": []
  },
  {
   "cell_type": "code",
   "execution_count": null,
   "metadata": {},
   "outputs": [],
   "source": []
  },
  {
   "cell_type": "code",
   "execution_count": null,
   "metadata": {},
   "outputs": [],
   "source": []
  },
  {
   "cell_type": "code",
   "execution_count": null,
   "metadata": {},
   "outputs": [],
   "source": []
  },
  {
   "cell_type": "code",
   "execution_count": null,
   "metadata": {},
   "outputs": [],
   "source": []
  },
  {
   "cell_type": "code",
   "execution_count": null,
   "metadata": {},
   "outputs": [],
   "source": []
  },
  {
   "cell_type": "code",
   "execution_count": null,
   "metadata": {},
   "outputs": [],
   "source": []
  },
  {
   "cell_type": "code",
   "execution_count": null,
   "metadata": {},
   "outputs": [],
   "source": []
  },
  {
   "cell_type": "code",
   "execution_count": null,
   "metadata": {},
   "outputs": [],
   "source": []
  }
 ],
 "metadata": {
  "kernelspec": {
   "display_name": "Python 3",
   "language": "python",
   "name": "python3"
  },
  "language_info": {
   "codemirror_mode": {
    "name": "ipython",
    "version": 3
   },
   "file_extension": ".py",
   "mimetype": "text/x-python",
   "name": "python",
   "nbconvert_exporter": "python",
   "pygments_lexer": "ipython3",
   "version": "3.8.17"
  },
  "orig_nbformat": 4
 },
 "nbformat": 4,
 "nbformat_minor": 2
}
