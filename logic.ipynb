{
 "cells": [
  {
   "cell_type": "code",
   "execution_count": 1,
   "metadata": {},
   "outputs": [],
   "source": [
    "import time\n",
    "from selenium import webdriver\n",
    "from bs4 import BeautifulSoup\n",
    "import pandas as pd \n",
    "from selenium.webdriver.common.by import By \n",
    "from selenium.webdriver.chrome.service import Service\n",
    "import os"
   ]
  },
  {
   "cell_type": "markdown",
   "metadata": {},
   "source": [
    "#### Web Page Elements \n",
    "Videos_List : style-scope ytd-rich-item-renderer\n",
    "\n",
    "title --  //*[@id=\"video-title-link\"]\n",
    "\n",
    "views -- //*[@id=\"metadata-line\"]/span[1]\n",
    "\n",
    "day_posted -- //*[@id=\"metadata-line\"]/span[2]\n",
    "video_link -- //*[@id=\"thumbnail\"]\n"
   ]
  },
  {
   "cell_type": "code",
   "execution_count": 27,
   "metadata": {},
   "outputs": [
    {
     "name": "stdout",
     "output_type": "stream",
     "text": [
      "https://www.youtube.com/watch?v=B2scdmTZ834\n",
      "https://www.youtube.com/watch?v=cgc3dSEAel0\n",
      "https://www.youtube.com/watch?v=cnY6jQlJcQc\n",
      "https://www.youtube.com/watch?v=i_FtfdOKa2M\n",
      "https://www.youtube.com/watch?v=pUUcLQRIkIM\n",
      "https://www.youtube.com/watch?v=pG7_V2MgJj0\n",
      "https://www.youtube.com/watch?v=RnzC2ULvp5I\n",
      "https://www.youtube.com/watch?v=PxCCzJndruQ\n",
      "https://www.youtube.com/watch?v=pxk1Fr33-L4\n",
      "https://www.youtube.com/watch?v=mHQPzVse2oA\n",
      "https://www.youtube.com/watch?v=qdcHHrsXA48\n",
      "https://www.youtube.com/watch?v=Iq7H-RPaWMk\n",
      "https://www.youtube.com/watch?v=zS1QUCvAkpE\n",
      "https://www.youtube.com/watch?v=fbrPaKLGd1o\n",
      "https://www.youtube.com/watch?v=kSr1dXRgcyw\n",
      "https://www.youtube.com/watch?v=G56dwY2CG5w\n",
      "https://www.youtube.com/watch?v=qDxCYmLWUyQ\n",
      "https://www.youtube.com/watch?v=zRdzLfoTwvQ\n",
      "https://www.youtube.com/watch?v=CbpsDMwFG2g\n",
      "https://www.youtube.com/watch?v=Le-A72NjaWs\n",
      "https://www.youtube.com/watch?v=PDoZb4HVM5k\n",
      "https://www.youtube.com/watch?v=Y9mxx1Mer0I\n",
      "https://www.youtube.com/watch?v=tv7rn5AsxFY\n",
      "https://www.youtube.com/watch?v=rRlsspJObIU\n",
      "https://www.youtube.com/watch?v=5Ghv-F1wF_0\n",
      "https://www.youtube.com/watch?v=t2bSApmPzU4\n",
      "https://www.youtube.com/watch?v=_FpT1cwcSLg\n",
      "https://www.youtube.com/watch?v=7fPvKahR4Eg\n",
      "https://www.youtube.com/watch?v=2m7Pgl-84F8\n",
      "https://www.youtube.com/watch?v=KZ1mWboXE6g\n"
     ]
    }
   ],
   "source": [
    "PATH = r'chromedriver.exe'\n",
    "service = Service(executable_path=PATH)\n",
    "wd = webdriver.Chrome(service=service)\n",
    "url = \"https://www.youtube.com/@krishnaik06/videos\"\n",
    "wd.get(url)\n",
    "videos = wd.find_elements(By.CLASS_NAME, \"style-scope ytd-rich-item-renderer\")\n",
    "        \n",
    "        \n",
    "for video in videos:\n",
    "    title = video.find_element(By.XPATH, \".//*[@id='video-title-link']\").get_attribute('href')\n",
    "    print(title)\n"
   ]
  },
  {
   "cell_type": "markdown",
   "metadata": {},
   "source": [
    "## Scrolling Till 50 Links are reached\n"
   ]
  },
  {
   "cell_type": "code",
   "execution_count": 28,
   "metadata": {},
   "outputs": [],
   "source": [
    "from selenium import webdriver\n",
    "from selenium.webdriver.common.by import By\n",
    "from selenium.webdriver.chrome.service import Service\n",
    "import time\n",
    "\n",
    "def scroll_to_end(wd):\n",
    "    wd.execute_script(\"window.scrollTo(0, 1000);\")\n",
    "    time.sleep(1)\n",
    "\n",
    "def fetch_video_details(url, max_videos=50):\n",
    "    PATH = r'chromedriver.exe'\n",
    "    service = Service(executable_path=PATH)\n",
    "    wd = webdriver.Chrome(service=service)\n",
    "    wd.get(url)\n",
    "    \n",
    "    video_details = []\n",
    "    while len(video_details) < max_videos:\n",
    "        videos = wd.find_elements(By.CLASS_NAME, \"style-scope ytd-rich-item-renderer\")\n",
    "        scroll_to_end(wd)\n",
    "        \n",
    "        for video in videos:\n",
    "            title = video.find_element(By.XPATH, \".//*[@id='video-title-link']\").text\n",
    "            view = video.find_element(By.XPATH, \".//*[@id='metadata-line']/span[1]\").text\n",
    "            date = video.find_element(By.XPATH, \".//*[@id='metadata-line']/span[2]\").text\n",
    "            link = video.find_element(By.XPATH, \".//*[@id='video-title-link']\").get_attribute('href') \n",
    "            # duration = video.find_element(By.CLASS_NAME, \"style-scope ytd-thumbnail-overlay-time-status-renderer\").text\n",
    "        \n",
    "\n",
    "            details = {\n",
    "                'title': title,\n",
    "                'views': view,\n",
    "                'date': date,\n",
    "                'yt_link':link\n",
    "            }\n",
    "            \n",
    "            video_details.append(details)\n",
    "            if len(video_details) >= max_videos:\n",
    "                break\n",
    "    \n",
    "    wd.quit()\n",
    "    return pd.DataFrame(video_details)\n",
    "\n",
    "url = \"https://www.youtube.com/@krishnaik06/videos\"\n",
    "max_videos = 50\n",
    "video_details_df = fetch_video_details(url, max_videos)\n"
   ]
  },
  {
   "cell_type": "code",
   "execution_count": 30,
   "metadata": {},
   "outputs": [
    {
     "data": {
      "text/plain": [
       "(50, 4)"
      ]
     },
     "execution_count": 30,
     "metadata": {},
     "output_type": "execute_result"
    }
   ],
   "source": [
    "video_details_df.shape"
   ]
  },
  {
   "cell_type": "code",
   "execution_count": null,
   "metadata": {},
   "outputs": [],
   "source": []
  },
  {
   "cell_type": "code",
   "execution_count": null,
   "metadata": {},
   "outputs": [],
   "source": []
  },
  {
   "cell_type": "code",
   "execution_count": null,
   "metadata": {},
   "outputs": [],
   "source": []
  },
  {
   "cell_type": "code",
   "execution_count": null,
   "metadata": {},
   "outputs": [],
   "source": []
  },
  {
   "cell_type": "code",
   "execution_count": null,
   "metadata": {},
   "outputs": [],
   "source": []
  },
  {
   "cell_type": "code",
   "execution_count": null,
   "metadata": {},
   "outputs": [],
   "source": []
  },
  {
   "cell_type": "code",
   "execution_count": null,
   "metadata": {},
   "outputs": [],
   "source": []
  },
  {
   "cell_type": "code",
   "execution_count": null,
   "metadata": {},
   "outputs": [],
   "source": []
  },
  {
   "cell_type": "code",
   "execution_count": null,
   "metadata": {},
   "outputs": [],
   "source": []
  },
  {
   "cell_type": "code",
   "execution_count": null,
   "metadata": {},
   "outputs": [],
   "source": []
  },
  {
   "cell_type": "code",
   "execution_count": null,
   "metadata": {},
   "outputs": [],
   "source": []
  },
  {
   "cell_type": "code",
   "execution_count": null,
   "metadata": {},
   "outputs": [],
   "source": []
  },
  {
   "cell_type": "code",
   "execution_count": null,
   "metadata": {},
   "outputs": [],
   "source": []
  }
 ],
 "metadata": {
  "kernelspec": {
   "display_name": "Python 3",
   "language": "python",
   "name": "python3"
  },
  "language_info": {
   "codemirror_mode": {
    "name": "ipython",
    "version": 3
   },
   "file_extension": ".py",
   "mimetype": "text/x-python",
   "name": "python",
   "nbconvert_exporter": "python",
   "pygments_lexer": "ipython3",
   "version": "3.8.17"
  },
  "orig_nbformat": 4
 },
 "nbformat": 4,
 "nbformat_minor": 2
}
