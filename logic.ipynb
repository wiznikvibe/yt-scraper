{
 "cells": [
  {
   "cell_type": "code",
   "execution_count": 1,
   "metadata": {},
   "outputs": [],
   "source": [
    "import time\n",
    "from selenium import webdriver\n",
    "from bs4 import BeautifulSoup\n",
    "import pandas as pd \n",
    "import requests\n",
    "from selenium.webdriver.common.by import By \n",
    "from selenium.webdriver.chrome.service import Service\n",
    "import os\n",
    "from googleapiclient.discovery import build\n",
    "import configparser"
   ]
  },
  {
   "cell_type": "markdown",
   "metadata": {},
   "source": [
    "#### Web Page Elements \n",
    "Videos_List : style-scope ytd-rich-item-renderer\n",
    "\n",
    "title --  //*[@id=\"video-title-link\"]\n",
    "\n",
    "views -- //*[@id=\"metadata-line\"]/span[1]\n",
    "\n",
    "day_posted -- //*[@id=\"metadata-line\"]/span[2]\n",
    "video_link -- //*[@id=\"thumbnail\"]\n"
   ]
  },
  {
   "cell_type": "code",
   "execution_count": null,
   "metadata": {},
   "outputs": [],
   "source": [
    "# PATH = r'chromedriver.exe'\n",
    "# service = Service(executable_path=PATH)\n",
    "# wd = webdriver.Chrome(service=service)\n",
    "# url = \"https://www.youtube.com/@krishnaik06/videos\"\n",
    "# wd.get(url)\n",
    "# videos = wd.find_elements(By.CLASS_NAME, \"style-scope ytd-rich-item-renderer\")\n",
    "        \n",
    "        \n",
    "# for video in videos:\n",
    "#     title = video.find_element(By.XPATH, \".//*[@id='video-title-link']\").get_attribute('href')\n",
    "#     print(title)\n"
   ]
  },
  {
   "cell_type": "markdown",
   "metadata": {},
   "source": [
    "## Scrolling Till 50 Links are reached\n"
   ]
  },
  {
   "cell_type": "code",
   "execution_count": 91,
   "metadata": {},
   "outputs": [],
   "source": [
    "def scroll_to_end(wd):\n",
    "    wd.execute_script(\"window.scrollTo(0, 1000);\")\n",
    "    time.sleep(5)\n",
    "\n",
    "def fetch_video_details(url, max_videos=50):\n",
    "    PATH = r'chromedriver.exe'\n",
    "    service = Service(executable_path=PATH)\n",
    "    wd = webdriver.Chrome(service=service)\n",
    "    wd.get(url)\n",
    "    \n",
    "    video_details = []\n",
    "    while len(video_details) < max_videos:\n",
    "        videos = wd.find_elements(By.CLASS_NAME, \"style-scope ytd-rich-item-renderer\")\n",
    "        scroll_to_end(wd)\n",
    "        \n",
    "        for video in videos:\n",
    "            title = video.find_element(By.XPATH, \".//*[@id='video-title-link']\").text\n",
    "            view = video.find_element(By.XPATH, \".//*[@id='metadata-line']/span[1]\").text\n",
    "            date = video.find_element(By.XPATH, \".//*[@id='metadata-line']/span[2]\").text\n",
    "            link = video.find_element(By.XPATH, \".//*[@id='video-title-link']\").get_attribute('href') \n",
    "            # duration = video.find_element(By.CLASS_NAME, \"style-scope ytd-thumbnail-overlay-time-status-renderer\").text\n",
    "        \n",
    "\n",
    "            details = {\n",
    "                'title': title,\n",
    "                'views': view,\n",
    "                'date': date,\n",
    "                'yt_link':link\n",
    "            }\n",
    "            \n",
    "            video_details.append(details)\n",
    "            if len(video_details) >= max_videos:\n",
    "                break\n",
    "    \n",
    "    wd.quit()\n",
    "    return pd.DataFrame(video_details)\n",
    "\n",
    "url = \"https://www.youtube.com/@krishnaik06/videos\"\n",
    "max_videos = 50\n",
    "video_details_df = fetch_video_details(url, max_videos)\n"
   ]
  },
  {
   "cell_type": "markdown",
   "metadata": {},
   "source": [
    "channel_ids = [\"UCNU_lfiiWBdtULKOw6X0Dig\",\"UCnz-ZXXER4jOvuED5trXfEA\",\"UCx6vgn7wVgo4ioAkzPJf71A\",\"UC8butISFwT-Wl7EV0hUK0BQ\"]"
   ]
  },
  {
   "cell_type": "markdown",
   "metadata": {},
   "source": [
    "## Likes, Dislikes, Description, Title, Comment "
   ]
  },
  {
   "cell_type": "code",
   "execution_count": 4,
   "metadata": {},
   "outputs": [
    {
     "data": {
      "text/plain": [
       "<googleapiclient.discovery.Resource at 0x237cd737f40>"
      ]
     },
     "execution_count": 4,
     "metadata": {},
     "output_type": "execute_result"
    }
   ],
   "source": [
    "# USE API \n",
    "config = configparser.ConfigParser()\n",
    "config.read('config.ini')\n",
    "api_key = config[\"USER\"]['API_KEY']\n",
    "youtube = build('youtube','v3',developerKey=api_key)\n"
   ]
  },
  {
   "cell_type": "code",
   "execution_count": 13,
   "metadata": {},
   "outputs": [],
   "source": [
    "def get_channel_stats(youtube, channel_id):\n",
    "    request = youtube.channels().list(part=\"snippet,contentDetails,statistics\",id=channel_id)\n",
    "    response = request.execute()\n",
    "    data = {\n",
    "        'Channel_Name': response['items'][0]['snippet']['title'],\n",
    "        'Subscribers': response['items'][0]['statistics']['subscriberCount'],\n",
    "        'Views': response['items'][0]['statistics']['viewCount'],\n",
    "        'Total_Videos':response['items'][0]['statistics']['videoCount'],\n",
    "        'All_videos':response['items'][0]['contentDetails']['relatedPlaylists']['uploads']\n",
    "    }\n",
    "\n",
    "    return data "
   ]
  },
  {
   "cell_type": "code",
   "execution_count": 14,
   "metadata": {},
   "outputs": [
    {
     "data": {
      "text/plain": [
       "{'Channel_Name': 'Krish Naik',\n",
       " 'Subscribers': '802000',\n",
       " 'Views': '80541929',\n",
       " 'Total_Videos': '1706',\n",
       " 'All_videos': 'UUNU_lfiiWBdtULKOw6X0Dig'}"
      ]
     },
     "execution_count": 14,
     "metadata": {},
     "output_type": "execute_result"
    }
   ],
   "source": [
    "get_channel_stats(youtube,\"UCNU_lfiiWBdtULKOw6X0Dig\")"
   ]
  },
  {
   "cell_type": "code",
   "execution_count": null,
   "metadata": {},
   "outputs": [],
   "source": []
  },
  {
   "cell_type": "code",
   "execution_count": null,
   "metadata": {},
   "outputs": [],
   "source": []
  },
  {
   "cell_type": "code",
   "execution_count": null,
   "metadata": {},
   "outputs": [],
   "source": []
  },
  {
   "cell_type": "code",
   "execution_count": null,
   "metadata": {},
   "outputs": [],
   "source": []
  },
  {
   "cell_type": "code",
   "execution_count": null,
   "metadata": {},
   "outputs": [],
   "source": []
  },
  {
   "cell_type": "code",
   "execution_count": null,
   "metadata": {},
   "outputs": [],
   "source": []
  },
  {
   "cell_type": "code",
   "execution_count": null,
   "metadata": {},
   "outputs": [],
   "source": []
  }
 ],
 "metadata": {
  "kernelspec": {
   "display_name": "Python 3",
   "language": "python",
   "name": "python3"
  },
  "language_info": {
   "codemirror_mode": {
    "name": "ipython",
    "version": 3
   },
   "file_extension": ".py",
   "mimetype": "text/x-python",
   "name": "python",
   "nbconvert_exporter": "python",
   "pygments_lexer": "ipython3",
   "version": "3.8.17"
  },
  "orig_nbformat": 4
 },
 "nbformat": 4,
 "nbformat_minor": 2
}
