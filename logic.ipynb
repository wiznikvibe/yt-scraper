{
 "cells": [
  {
   "cell_type": "code",
   "execution_count": 1,
   "metadata": {},
   "outputs": [],
   "source": [
    "import time\n",
    "from selenium import webdriver\n",
    "from bs4 import BeautifulSoup\n",
    "import pandas as pd \n",
    "from selenium.webdriver.common.by import By \n",
    "from selenium.webdriver.chrome.service import Service\n",
    "import os"
   ]
  },
  {
   "cell_type": "markdown",
   "metadata": {},
   "source": [
    "#### Web Page Elements \n",
    "Videos_List : style-scope ytd-rich-item-renderer\n",
    "\n",
    "title --  //*[@id=\"video-title-link\"]\n",
    "\n",
    "views -- //*[@id=\"metadata-line\"]/span[1]\n",
    "\n",
    "day_posted -- //*[@id=\"metadata-line\"]/span[2]\n",
    "video_link -- //*[@id=\"thumbnail\"]\n"
   ]
  },
  {
   "cell_type": "code",
   "execution_count": 26,
   "metadata": {},
   "outputs": [
    {
     "ename": "NoSuchElementException",
     "evalue": "Message: no such element: Unable to locate element: {\"method\":\"css selector\",\"selector\":\".yt-simple-endpoint inline-block style-scope ytd-thumbnail\"}\n  (Session info: chrome=116.0.5845.110); For documentation on this error, please visit: https://www.selenium.dev/documentation/webdriver/troubleshooting/errors#no-such-element-exception\nStacktrace:\n\tGetHandleVerifier [0x00007FF7CEB252A2+57122]\n\t(No symbol) [0x00007FF7CEA9EA92]\n\t(No symbol) [0x00007FF7CE96E3AB]\n\t(No symbol) [0x00007FF7CE9A7D3E]\n\t(No symbol) [0x00007FF7CE9A7E2C]\n\t(No symbol) [0x00007FF7CE99EC3C]\n\t(No symbol) [0x00007FF7CE9C701F]\n\t(No symbol) [0x00007FF7CE99EB76]\n\t(No symbol) [0x00007FF7CE9C71F0]\n\t(No symbol) [0x00007FF7CE9DEB82]\n\t(No symbol) [0x00007FF7CE9C6DB3]\n\t(No symbol) [0x00007FF7CE99D2B1]\n\t(No symbol) [0x00007FF7CE99E494]\n\tGetHandleVerifier [0x00007FF7CEDCEF82+2849794]\n\tGetHandleVerifier [0x00007FF7CEE21D24+3189156]\n\tGetHandleVerifier [0x00007FF7CEE1ACAF+3160367]\n\tGetHandleVerifier [0x00007FF7CEBB6D06+653702]\n\t(No symbol) [0x00007FF7CEAAA208]\n\t(No symbol) [0x00007FF7CEAA62C4]\n\t(No symbol) [0x00007FF7CEAA63F6]\n\t(No symbol) [0x00007FF7CEA967A3]\n\tBaseThreadInitThunk [0x00007FFE5840257D+29]\n\tRtlUserThreadStart [0x00007FFE5974AA68+40]\n",
     "output_type": "error",
     "traceback": [
      "\u001b[1;31m---------------------------------------------------------------------------\u001b[0m",
      "\u001b[1;31mNoSuchElementException\u001b[0m                    Traceback (most recent call last)",
      "Cell \u001b[1;32mIn[26], line 8\u001b[0m\n\u001b[0;32m      5\u001b[0m videos \u001b[39m=\u001b[39m wd\u001b[39m.\u001b[39mfind_elements(By\u001b[39m.\u001b[39mCLASS_NAME, \u001b[39m\"\u001b[39m\u001b[39mstyle-scope ytd-rich-item-renderer\u001b[39m\u001b[39m\"\u001b[39m)\n\u001b[0;32m      7\u001b[0m \u001b[39mfor\u001b[39;00m video \u001b[39min\u001b[39;00m videos:\n\u001b[1;32m----> 8\u001b[0m     link \u001b[39m=\u001b[39m video\u001b[39m.\u001b[39;49mfind_element(By\u001b[39m.\u001b[39;49mCLASS_NAME,\u001b[39m\"\u001b[39;49m\u001b[39myt-simple-endpoint inline-block style-scope ytd-thumbnail\u001b[39;49m\u001b[39m\"\u001b[39;49m)\n\u001b[0;32m      9\u001b[0m     \u001b[39mprint\u001b[39m(link\u001b[39m.\u001b[39mget_attribute(\u001b[39m'\u001b[39m\u001b[39mhref\u001b[39m\u001b[39m'\u001b[39m))\n",
      "File \u001b[1;32mc:\\Users\\nikhi\\yt-scraper\\venv\\lib\\site-packages\\selenium\\webdriver\\remote\\webelement.py:417\u001b[0m, in \u001b[0;36mWebElement.find_element\u001b[1;34m(self, by, value)\u001b[0m\n\u001b[0;32m    414\u001b[0m     by \u001b[39m=\u001b[39m By\u001b[39m.\u001b[39mCSS_SELECTOR\n\u001b[0;32m    415\u001b[0m     value \u001b[39m=\u001b[39m \u001b[39mf\u001b[39m\u001b[39m'\u001b[39m\u001b[39m[name=\u001b[39m\u001b[39m\"\u001b[39m\u001b[39m{\u001b[39;00mvalue\u001b[39m}\u001b[39;00m\u001b[39m\"\u001b[39m\u001b[39m]\u001b[39m\u001b[39m'\u001b[39m\n\u001b[1;32m--> 417\u001b[0m \u001b[39mreturn\u001b[39;00m \u001b[39mself\u001b[39;49m\u001b[39m.\u001b[39;49m_execute(Command\u001b[39m.\u001b[39;49mFIND_CHILD_ELEMENT, {\u001b[39m\"\u001b[39;49m\u001b[39musing\u001b[39;49m\u001b[39m\"\u001b[39;49m: by, \u001b[39m\"\u001b[39;49m\u001b[39mvalue\u001b[39;49m\u001b[39m\"\u001b[39;49m: value})[\u001b[39m\"\u001b[39m\u001b[39mvalue\u001b[39m\u001b[39m\"\u001b[39m]\n",
      "File \u001b[1;32mc:\\Users\\nikhi\\yt-scraper\\venv\\lib\\site-packages\\selenium\\webdriver\\remote\\webelement.py:395\u001b[0m, in \u001b[0;36mWebElement._execute\u001b[1;34m(self, command, params)\u001b[0m\n\u001b[0;32m    393\u001b[0m     params \u001b[39m=\u001b[39m {}\n\u001b[0;32m    394\u001b[0m params[\u001b[39m\"\u001b[39m\u001b[39mid\u001b[39m\u001b[39m\"\u001b[39m] \u001b[39m=\u001b[39m \u001b[39mself\u001b[39m\u001b[39m.\u001b[39m_id\n\u001b[1;32m--> 395\u001b[0m \u001b[39mreturn\u001b[39;00m \u001b[39mself\u001b[39;49m\u001b[39m.\u001b[39;49m_parent\u001b[39m.\u001b[39;49mexecute(command, params)\n",
      "File \u001b[1;32mc:\\Users\\nikhi\\yt-scraper\\venv\\lib\\site-packages\\selenium\\webdriver\\remote\\webdriver.py:345\u001b[0m, in \u001b[0;36mWebDriver.execute\u001b[1;34m(self, driver_command, params)\u001b[0m\n\u001b[0;32m    343\u001b[0m response \u001b[39m=\u001b[39m \u001b[39mself\u001b[39m\u001b[39m.\u001b[39mcommand_executor\u001b[39m.\u001b[39mexecute(driver_command, params)\n\u001b[0;32m    344\u001b[0m \u001b[39mif\u001b[39;00m response:\n\u001b[1;32m--> 345\u001b[0m     \u001b[39mself\u001b[39;49m\u001b[39m.\u001b[39;49merror_handler\u001b[39m.\u001b[39;49mcheck_response(response)\n\u001b[0;32m    346\u001b[0m     response[\u001b[39m\"\u001b[39m\u001b[39mvalue\u001b[39m\u001b[39m\"\u001b[39m] \u001b[39m=\u001b[39m \u001b[39mself\u001b[39m\u001b[39m.\u001b[39m_unwrap_value(response\u001b[39m.\u001b[39mget(\u001b[39m\"\u001b[39m\u001b[39mvalue\u001b[39m\u001b[39m\"\u001b[39m, \u001b[39mNone\u001b[39;00m))\n\u001b[0;32m    347\u001b[0m     \u001b[39mreturn\u001b[39;00m response\n",
      "File \u001b[1;32mc:\\Users\\nikhi\\yt-scraper\\venv\\lib\\site-packages\\selenium\\webdriver\\remote\\errorhandler.py:229\u001b[0m, in \u001b[0;36mErrorHandler.check_response\u001b[1;34m(self, response)\u001b[0m\n\u001b[0;32m    227\u001b[0m         alert_text \u001b[39m=\u001b[39m value[\u001b[39m\"\u001b[39m\u001b[39malert\u001b[39m\u001b[39m\"\u001b[39m]\u001b[39m.\u001b[39mget(\u001b[39m\"\u001b[39m\u001b[39mtext\u001b[39m\u001b[39m\"\u001b[39m)\n\u001b[0;32m    228\u001b[0m     \u001b[39mraise\u001b[39;00m exception_class(message, screen, stacktrace, alert_text)  \u001b[39m# type: ignore[call-arg]  # mypy is not smart enough here\u001b[39;00m\n\u001b[1;32m--> 229\u001b[0m \u001b[39mraise\u001b[39;00m exception_class(message, screen, stacktrace)\n",
      "\u001b[1;31mNoSuchElementException\u001b[0m: Message: no such element: Unable to locate element: {\"method\":\"css selector\",\"selector\":\".yt-simple-endpoint inline-block style-scope ytd-thumbnail\"}\n  (Session info: chrome=116.0.5845.110); For documentation on this error, please visit: https://www.selenium.dev/documentation/webdriver/troubleshooting/errors#no-such-element-exception\nStacktrace:\n\tGetHandleVerifier [0x00007FF7CEB252A2+57122]\n\t(No symbol) [0x00007FF7CEA9EA92]\n\t(No symbol) [0x00007FF7CE96E3AB]\n\t(No symbol) [0x00007FF7CE9A7D3E]\n\t(No symbol) [0x00007FF7CE9A7E2C]\n\t(No symbol) [0x00007FF7CE99EC3C]\n\t(No symbol) [0x00007FF7CE9C701F]\n\t(No symbol) [0x00007FF7CE99EB76]\n\t(No symbol) [0x00007FF7CE9C71F0]\n\t(No symbol) [0x00007FF7CE9DEB82]\n\t(No symbol) [0x00007FF7CE9C6DB3]\n\t(No symbol) [0x00007FF7CE99D2B1]\n\t(No symbol) [0x00007FF7CE99E494]\n\tGetHandleVerifier [0x00007FF7CEDCEF82+2849794]\n\tGetHandleVerifier [0x00007FF7CEE21D24+3189156]\n\tGetHandleVerifier [0x00007FF7CEE1ACAF+3160367]\n\tGetHandleVerifier [0x00007FF7CEBB6D06+653702]\n\t(No symbol) [0x00007FF7CEAAA208]\n\t(No symbol) [0x00007FF7CEAA62C4]\n\t(No symbol) [0x00007FF7CEAA63F6]\n\t(No symbol) [0x00007FF7CEA967A3]\n\tBaseThreadInitThunk [0x00007FFE5840257D+29]\n\tRtlUserThreadStart [0x00007FFE5974AA68+40]\n"
     ]
    }
   ],
   "source": [
    "PATH = r'chromedriver.exe'\n",
    "service = Service(executable_path=PATH)\n",
    "wd = webdriver.Chrome(service=service)\n",
    "wd.get(url)\n",
    "videos = wd.find_elements(By.CLASS_NAME, \"style-scope ytd-rich-item-renderer\")\n",
    "\n",
    "for video in videos:\n",
    "    link = video.find_element(By.CLASS_NAME,\"yt-simple-endpoint inline-block style-scope ytd-thumbnail\")\n",
    "    print(link.get_attribute('href'))\n"
   ]
  },
  {
   "cell_type": "markdown",
   "metadata": {},
   "source": [
    "## Scrolling Till 50 Links are reached\n"
   ]
  },
  {
   "cell_type": "code",
   "execution_count": 22,
   "metadata": {},
   "outputs": [],
   "source": [
    "from selenium import webdriver\n",
    "from selenium.webdriver.common.by import By\n",
    "from selenium.webdriver.chrome.service import Service\n",
    "import time\n",
    "\n",
    "def scroll_to_end(wd):\n",
    "    wd.execute_script(\"window.scrollTo(0, 1000);\")\n",
    "    time.sleep(1)\n",
    "\n",
    "def fetch_video_details(url, max_videos=50):\n",
    "    PATH = r'chromedriver.exe'\n",
    "    service = Service(executable_path=PATH)\n",
    "    wd = webdriver.Chrome(service=service)\n",
    "    wd.get(url)\n",
    "    \n",
    "    video_details = []\n",
    "    while len(video_details) < max_videos:\n",
    "        videos = wd.find_elements(By.CLASS_NAME, \"style-scope ytd-rich-item-renderer\")\n",
    "        scroll_to_end(wd)\n",
    "        \n",
    "        for video in videos:\n",
    "            title = video.find_element(By.XPATH, \".//*[@id='video-title-link']\").text\n",
    "            view = video.find_element(By.XPATH, \".//*[@id='metadata-line']/span[1]\").text\n",
    "            date = video.find_element(By.XPATH, \".//*[@id='metadata-line']/span[2]\").text\n",
    "            # duration = video.find_element(By.CLASS_NAME, \"style-scope ytd-thumbnail-overlay-time-status-renderer\").text\n",
    "            \n",
    "            details = {\n",
    "                'title': title,\n",
    "                'views': view,\n",
    "                'date': date\n",
    "            }\n",
    "            \n",
    "            video_details.append(details)\n",
    "            if len(video_details) >= max_videos:\n",
    "                break\n",
    "    \n",
    "    wd.quit()\n",
    "    return pd.DataFrame(video_details)\n",
    "\n",
    "url = \"https://www.youtube.com/@krishnaik06/videos\"\n",
    "max_videos = 50\n",
    "video_details_df = fetch_video_details(url, max_videos)\n"
   ]
  },
  {
   "cell_type": "code",
   "execution_count": 23,
   "metadata": {},
   "outputs": [
    {
     "data": {
      "text/html": [
       "<div>\n",
       "<style scoped>\n",
       "    .dataframe tbody tr th:only-of-type {\n",
       "        vertical-align: middle;\n",
       "    }\n",
       "\n",
       "    .dataframe tbody tr th {\n",
       "        vertical-align: top;\n",
       "    }\n",
       "\n",
       "    .dataframe thead th {\n",
       "        text-align: right;\n",
       "    }\n",
       "</style>\n",
       "<table border=\"1\" class=\"dataframe\">\n",
       "  <thead>\n",
       "    <tr style=\"text-align: right;\">\n",
       "      <th></th>\n",
       "      <th>title</th>\n",
       "      <th>views</th>\n",
       "      <th>date</th>\n",
       "    </tr>\n",
       "  </thead>\n",
       "  <tbody>\n",
       "    <tr>\n",
       "      <th>0</th>\n",
       "      <td>48 Years Old Transition From Faculty To Data S...</td>\n",
       "      <td>1.7K views</td>\n",
       "      <td>3 hours ago</td>\n",
       "    </tr>\n",
       "    <tr>\n",
       "      <th>1</th>\n",
       "      <td>Evidently AI Tutorial-Open Source ML Models Mo...</td>\n",
       "      <td>5.7K views</td>\n",
       "      <td>2 days ago</td>\n",
       "    </tr>\n",
       "    <tr>\n",
       "      <th>2</th>\n",
       "      <td>Is Transition From Mechanical Engineering To D...</td>\n",
       "      <td>11K views</td>\n",
       "      <td>5 days ago</td>\n",
       "    </tr>\n",
       "    <tr>\n",
       "      <th>3</th>\n",
       "      <td>BentoML Tutorial: Build Production Grade AI Ap...</td>\n",
       "      <td>8.2K views</td>\n",
       "      <td>7 days ago</td>\n",
       "    </tr>\n",
       "    <tr>\n",
       "      <th>4</th>\n",
       "      <td>Rohan Successful Transition-Freshers To MLOPS ...</td>\n",
       "      <td>8.3K views</td>\n",
       "      <td>9 days ago</td>\n",
       "    </tr>\n",
       "  </tbody>\n",
       "</table>\n",
       "</div>"
      ],
      "text/plain": [
       "                                               title       views         date\n",
       "0  48 Years Old Transition From Faculty To Data S...  1.7K views  3 hours ago\n",
       "1  Evidently AI Tutorial-Open Source ML Models Mo...  5.7K views   2 days ago\n",
       "2  Is Transition From Mechanical Engineering To D...   11K views   5 days ago\n",
       "3  BentoML Tutorial: Build Production Grade AI Ap...  8.2K views   7 days ago\n",
       "4  Rohan Successful Transition-Freshers To MLOPS ...  8.3K views   9 days ago"
      ]
     },
     "execution_count": 23,
     "metadata": {},
     "output_type": "execute_result"
    }
   ],
   "source": [
    "video_details_df.head()"
   ]
  },
  {
   "cell_type": "code",
   "execution_count": null,
   "metadata": {},
   "outputs": [],
   "source": []
  },
  {
   "cell_type": "code",
   "execution_count": null,
   "metadata": {},
   "outputs": [],
   "source": []
  },
  {
   "cell_type": "code",
   "execution_count": null,
   "metadata": {},
   "outputs": [],
   "source": []
  },
  {
   "cell_type": "code",
   "execution_count": null,
   "metadata": {},
   "outputs": [],
   "source": []
  },
  {
   "cell_type": "code",
   "execution_count": null,
   "metadata": {},
   "outputs": [],
   "source": []
  },
  {
   "cell_type": "code",
   "execution_count": null,
   "metadata": {},
   "outputs": [],
   "source": []
  },
  {
   "cell_type": "code",
   "execution_count": null,
   "metadata": {},
   "outputs": [],
   "source": []
  },
  {
   "cell_type": "code",
   "execution_count": null,
   "metadata": {},
   "outputs": [],
   "source": []
  },
  {
   "cell_type": "code",
   "execution_count": null,
   "metadata": {},
   "outputs": [],
   "source": []
  },
  {
   "cell_type": "code",
   "execution_count": null,
   "metadata": {},
   "outputs": [],
   "source": []
  },
  {
   "cell_type": "code",
   "execution_count": null,
   "metadata": {},
   "outputs": [],
   "source": []
  },
  {
   "cell_type": "code",
   "execution_count": null,
   "metadata": {},
   "outputs": [],
   "source": []
  },
  {
   "cell_type": "code",
   "execution_count": null,
   "metadata": {},
   "outputs": [],
   "source": []
  }
 ],
 "metadata": {
  "kernelspec": {
   "display_name": "Python 3",
   "language": "python",
   "name": "python3"
  },
  "language_info": {
   "codemirror_mode": {
    "name": "ipython",
    "version": 3
   },
   "file_extension": ".py",
   "mimetype": "text/x-python",
   "name": "python",
   "nbconvert_exporter": "python",
   "pygments_lexer": "ipython3",
   "version": "3.8.17"
  },
  "orig_nbformat": 4
 },
 "nbformat": 4,
 "nbformat_minor": 2
}
