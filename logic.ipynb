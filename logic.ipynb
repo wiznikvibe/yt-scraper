{
 "cells": [
  {
   "cell_type": "code",
   "execution_count": 1,
   "metadata": {},
   "outputs": [],
   "source": [
    "import time\n",
    "from selenium import webdriver\n",
    "from bs4 import BeautifulSoup\n",
    "import pandas as pd \n",
    "from selenium.webdriver.common.by import By \n",
    "from selenium.webdriver.chrome.service import Service\n",
    "import os"
   ]
  },
  {
   "cell_type": "code",
   "execution_count": null,
   "metadata": {},
   "outputs": [],
   "source": []
  },
  {
   "cell_type": "markdown",
   "metadata": {},
   "source": [
    "#### Web Page Elements \n",
    "Videos_List : style-scope ytd-rich-item-renderer\n",
    "\n",
    "title --  //*[@id=\"video-title-link\"]\n",
    "\n",
    "views -- //*[@id=\"metadata-line\"]/span[1]\n",
    "\n",
    "time -- //*[@id=\"metadata-line\"]/span[2]\n",
    "\n",
    "thumbnail -- //*[@id=\"thumbnail\"]/yt-image/img\n",
    "//*[@id=\"thumbnail\"]/yt-image/img"
   ]
  },
  {
   "cell_type": "code",
   "execution_count": 4,
   "metadata": {},
   "outputs": [],
   "source": [
    "def scroll_to_end(wd):\n",
    "        wd.execute_script(\"window.scrollTo(0,1000);\")\n",
    "        time.sleep(1)"
   ]
  },
  {
   "cell_type": "code",
   "execution_count": null,
   "metadata": {},
   "outputs": [],
   "source": [
    "def Fetch_videos_list(channel: str, max_fetch_count: int, wd):\n",
    "    url = f\"https://www.youtube.com/{channel}/videos\"\n",
    "    # Open Browser Search for the Channel\n",
    "    wd.get(url)\n",
    "    while \n",
    "    # Videos Object\n"
   ]
  },
  {
   "cell_type": "code",
   "execution_count": 13,
   "metadata": {},
   "outputs": [
    {
     "name": "stdout",
     "output_type": "stream",
     "text": [
      "30\n",
      "Evidently AI Tutorial-Open Source ML Models Monitoring and Observability\n",
      "Is Transition From Mechanical Engineering To Data Science Possible? Shivam Transition Story Podcast\n",
      "BentoML Tutorial: Build Production Grade AI Applications\n",
      "Rohan Successful Transition-Freshers To MLOPS Lead With Equity @PWSkillsTech #datascience #ai\n",
      "Projjal Transition Story To Data Science With 380% Hike\n",
      "Tanisha Transition Story To Data Analytics Industry With 200% Hike\n",
      "Tavishi Transition Story To Data Science With 6 Offers And 170% Hike @PWSkillsTech\n",
      "End To End MLOPS Data Science Project Implementation With Deployment\n",
      "Data Versioning Hands On Tutorials With DVC For Data Science\n",
      "The Power Of MLFLOW And Dagshub-Open Source Data Science Project Collaboration\n",
      "Will AI Eat Your Job After ChatGPT And Code Interpreter- What You Should Do?\n",
      "The Power Of ChatGPT Plugins|Check This Powerful Demo\n",
      "The Future Of Coding-Code Interpreter With Chatgpt- Its Time To Make AI Your Friend\n",
      "What Will Change In Data Science Project Development After OPENAI And Hugging Face API\n",
      "Why You Should Learn Python In 2023 And Focus On Project Development?\n",
      "A Dedicated Playlist For End To End Data Science Projects Implementation With Deployment In 2023\n",
      "The Power Of Function Calling Ussing OpenAI API Tutorial #2\n",
      "OpenAI API With Python Tuorial 1-ChatCompletion API and Completion API\n",
      "End To End Machine Learning Project Implementation Using AWS Sagemaker\n",
      "This Video Has Been Made By An AI With My Avatar- Future OF AI\n",
      "Learn How Python Data Classes Can Save Your Time In Projects\n",
      "Build Python LLM apps in minutes Using Chainlit ⚡️\n",
      "How OpenAI Will Change the Future- Sharing My Experience After Using It\n",
      "Learn How To Query Pdf using Langchain Open AI in 5 min\n",
      "Prompt Engineering And LLM's With LangChain In One Shot-Generative AI\n",
      "Getting Started With LangChain In 20 Minutes- Build Celebrity Search Application\n",
      "An Important Advice-AI Is Advancing Just Start Learning AI Before Its Late\n",
      "What Is Generative AI\n",
      "Machine Learning Series-Linear Regression Ordinary Least Square Method\n",
      "Machine Learning Series- Revising Regression Performance Metrics,MSE,MAE,RMSE, R squared-Krish Naik\n"
     ]
    }
   ],
   "source": [
    "PATH = r'chromedriver.exe'\n",
    "url = f\"https://www.youtube.com/@krishnaik06/videos\"\n",
    "service = Service(executable_path=PATH)\n",
    "wd = webdriver.Chrome(service=service)\n",
    "wd.get(url)\n",
    "\n",
    "titles = wd.find_elements(By.ID, \"video-title\")\n"
   ]
  },
  {
   "cell_type": "code",
   "execution_count": 14,
   "metadata": {},
   "outputs": [
    {
     "name": "stdout",
     "output_type": "stream",
     "text": [
      "30\n"
     ]
    }
   ],
   "source": [
    "\n",
    "PATH = r'chromedriver.exe'\n",
    "url = f\"https://www.youtube.com/@krishnaik06/videos\"\n",
    "service = Service(executable_path=PATH)\n",
    "wd = webdriver.Chrome(service=service)\n",
    "wd.get(url)\n",
    "videos = wd.find_elements(By.CLASS_NAME,\"style-scope ytd-rich-item-renderer\")\n",
    "print(len(videos))\n",
    "video_details = []\n",
    "\n",
    "for video in videos[:50]:\n",
    "    title = video.find_element(By.XPATH,\".//*[@id='video-title-link']\").text\n",
    "    view = video.find_element(By.XPATH,\".//*[@id='metadata-line']/span[1]\").text\n",
    "    date = video.find_element(By.XPATH,\".//*[@id='metadata-line']/span[2]\").text\n",
    "\n",
    "    details = {\n",
    "        'title': title,\n",
    "        'views': view,\n",
    "        'date': date\n",
    "    }\n",
    "\n",
    "    video_details.append(details)\n",
    "df = pd.DataFrame(video_details)\n",
    "    "
   ]
  },
  {
   "cell_type": "code",
   "execution_count": 16,
   "metadata": {},
   "outputs": [
    {
     "data": {
      "text/html": [
       "<div>\n",
       "<style scoped>\n",
       "    .dataframe tbody tr th:only-of-type {\n",
       "        vertical-align: middle;\n",
       "    }\n",
       "\n",
       "    .dataframe tbody tr th {\n",
       "        vertical-align: top;\n",
       "    }\n",
       "\n",
       "    .dataframe thead th {\n",
       "        text-align: right;\n",
       "    }\n",
       "</style>\n",
       "<table border=\"1\" class=\"dataframe\">\n",
       "  <thead>\n",
       "    <tr style=\"text-align: right;\">\n",
       "      <th></th>\n",
       "      <th>title</th>\n",
       "      <th>views</th>\n",
       "      <th>date</th>\n",
       "    </tr>\n",
       "  </thead>\n",
       "  <tbody>\n",
       "    <tr>\n",
       "      <th>25</th>\n",
       "      <td>Getting Started With LangChain In 20 Minutes- ...</td>\n",
       "      <td>35K views</td>\n",
       "      <td>2 months ago</td>\n",
       "    </tr>\n",
       "    <tr>\n",
       "      <th>26</th>\n",
       "      <td>An Important Advice-AI Is Advancing Just Start...</td>\n",
       "      <td>30K views</td>\n",
       "      <td>2 months ago</td>\n",
       "    </tr>\n",
       "    <tr>\n",
       "      <th>27</th>\n",
       "      <td>What Is Generative AI</td>\n",
       "      <td>44K views</td>\n",
       "      <td>2 months ago</td>\n",
       "    </tr>\n",
       "    <tr>\n",
       "      <th>28</th>\n",
       "      <td>Machine Learning Series-Linear Regression Ordi...</td>\n",
       "      <td>6K views</td>\n",
       "      <td>2 months ago</td>\n",
       "    </tr>\n",
       "    <tr>\n",
       "      <th>29</th>\n",
       "      <td>Machine Learning Series- Revising Regression P...</td>\n",
       "      <td>5K views</td>\n",
       "      <td>2 months ago</td>\n",
       "    </tr>\n",
       "  </tbody>\n",
       "</table>\n",
       "</div>"
      ],
      "text/plain": [
       "                                                title      views          date\n",
       "25  Getting Started With LangChain In 20 Minutes- ...  35K views  2 months ago\n",
       "26  An Important Advice-AI Is Advancing Just Start...  30K views  2 months ago\n",
       "27                              What Is Generative AI  44K views  2 months ago\n",
       "28  Machine Learning Series-Linear Regression Ordi...   6K views  2 months ago\n",
       "29  Machine Learning Series- Revising Regression P...   5K views  2 months ago"
      ]
     },
     "execution_count": 16,
     "metadata": {},
     "output_type": "execute_result"
    }
   ],
   "source": [
    "df.tail()"
   ]
  },
  {
   "cell_type": "code",
   "execution_count": null,
   "metadata": {},
   "outputs": [],
   "source": [
    "\n",
    "# views = wd.find_elements(By.XPATH,\"//*[@id='metadata-line']/span[1]\")\n",
    "# date = wd.find_elements(By.XPATH,\"//*[@id='metadata-line']/span[2]\")"
   ]
  },
  {
   "cell_type": "code",
   "execution_count": null,
   "metadata": {},
   "outputs": [],
   "source": [
    "\n",
    "\n"
   ]
  },
  {
   "cell_type": "code",
   "execution_count": null,
   "metadata": {},
   "outputs": [],
   "source": [
    "len(video_details)"
   ]
  },
  {
   "cell_type": "code",
   "execution_count": null,
   "metadata": {},
   "outputs": [],
   "source": [
    "len(video_details)"
   ]
  },
  {
   "cell_type": "code",
   "execution_count": null,
   "metadata": {},
   "outputs": [],
   "source": []
  },
  {
   "cell_type": "code",
   "execution_count": null,
   "metadata": {},
   "outputs": [],
   "source": []
  },
  {
   "cell_type": "code",
   "execution_count": null,
   "metadata": {},
   "outputs": [],
   "source": []
  },
  {
   "cell_type": "code",
   "execution_count": null,
   "metadata": {},
   "outputs": [],
   "source": []
  },
  {
   "cell_type": "code",
   "execution_count": null,
   "metadata": {},
   "outputs": [],
   "source": []
  },
  {
   "cell_type": "code",
   "execution_count": null,
   "metadata": {},
   "outputs": [],
   "source": []
  },
  {
   "cell_type": "code",
   "execution_count": null,
   "metadata": {},
   "outputs": [],
   "source": []
  },
  {
   "cell_type": "code",
   "execution_count": null,
   "metadata": {},
   "outputs": [],
   "source": []
  },
  {
   "cell_type": "code",
   "execution_count": null,
   "metadata": {},
   "outputs": [],
   "source": []
  },
  {
   "cell_type": "code",
   "execution_count": null,
   "metadata": {},
   "outputs": [],
   "source": []
  },
  {
   "cell_type": "code",
   "execution_count": null,
   "metadata": {},
   "outputs": [],
   "source": []
  },
  {
   "cell_type": "code",
   "execution_count": null,
   "metadata": {},
   "outputs": [],
   "source": []
  },
  {
   "cell_type": "code",
   "execution_count": null,
   "metadata": {},
   "outputs": [],
   "source": []
  },
  {
   "cell_type": "code",
   "execution_count": null,
   "metadata": {},
   "outputs": [],
   "source": []
  },
  {
   "cell_type": "code",
   "execution_count": null,
   "metadata": {},
   "outputs": [],
   "source": []
  },
  {
   "cell_type": "code",
   "execution_count": null,
   "metadata": {},
   "outputs": [],
   "source": []
  },
  {
   "cell_type": "code",
   "execution_count": null,
   "metadata": {},
   "outputs": [],
   "source": []
  }
 ],
 "metadata": {
  "kernelspec": {
   "display_name": "Python 3",
   "language": "python",
   "name": "python3"
  },
  "language_info": {
   "codemirror_mode": {
    "name": "ipython",
    "version": 3
   },
   "file_extension": ".py",
   "mimetype": "text/x-python",
   "name": "python",
   "nbconvert_exporter": "python",
   "pygments_lexer": "ipython3",
   "version": "3.8.17"
  },
  "orig_nbformat": 4
 },
 "nbformat": 4,
 "nbformat_minor": 2
}
